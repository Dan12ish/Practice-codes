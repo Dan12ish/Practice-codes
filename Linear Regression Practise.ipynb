{
 "cells": [
  {
   "cell_type": "code",
   "execution_count": 1,
   "id": "b6e95d2f",
   "metadata": {},
   "outputs": [],
   "source": [
    "import numpy as np\n",
    "import pandas as pd\n",
    "import matplotlib.pyplot as plt\n",
    "from sklearn.linear_model import LinearRegression"
   ]
  },
  {
   "cell_type": "code",
   "execution_count": 2,
   "id": "2551b21a",
   "metadata": {},
   "outputs": [
    {
     "data": {
      "text/plain": [
       "<matplotlib.collections.PathCollection at 0x1e0c2f3cee0>"
      ]
     },
     "execution_count": 2,
     "metadata": {},
     "output_type": "execute_result"
    },
    {
     "data": {
      "image/png": "[encoded data removed]",
      "text/plain": [
       "<Figure size 640x480 with 1 Axes>"
      ]
     },
     "metadata": {},
     "output_type": "display_data"
    }
   ],
   "source": [
    "# Creating Data \n",
    "\n",
    "x = [1,2,3,4]\n",
    "y = [2,4,6,8]\n",
    "\n",
    "plt.scatter(x,y)"
   ]
  },
  {
   "cell_type": "markdown",
   "id": "1df91914",
   "metadata": {},
   "source": [
    "Hypothesis for Linear regression is:\n",
    "\n",
    "y' = m1x1 + m2x2 +...+ mnxn + c"
   ]
  },
  {
   "cell_type": "code",
   "execution_count": 14,
   "id": "c39d0c60",
   "metadata": {},
   "outputs": [],
   "source": [
    "# Initializing hyper parameters.\n",
    "\n",
    "alpha = 0.0001\n",
    "iters = 650\n",
    "theta = np.array([[3,3,3,3]]) #... a.k.a 'm'"
   ]
  },
  {
   "cell_type": "markdown",
   "id": "fae4e6d1",
   "metadata": {},
   "source": [
    "Cost function:\n",
    "\n",
    "j(ɵ1,ɵ2) = 1/2m * m^∑vi=1 * (y'vi - yvi)^2"
   ]
  },
  {
   "cell_type": "code",
   "execution_count": 6,
   "id": "05a865cb",
   "metadata": {},
   "outputs": [],
   "source": [
    "# defining cost function.\n",
    "\n",
    "def computecostfunc(x,y,theta):\n",
    "    inner = np.power(((x @ theta.T)-y),2)   #... @ means mulptiplication of arrays... .T means transpose of theta as array multiplication should happen as 1x4 * 4x1. \n",
    "    return np.sum(inner) / (2 * len(x))"
   ]
  },
  {
   "cell_type": "code",
   "execution_count": 7,
   "id": "6efb7fca",
   "metadata": {},
   "outputs": [
    {
     "data": {
      "text/plain": [
       "315.0"
      ]
     },
     "execution_count": 7,
     "metadata": {},
     "output_type": "execute_result"
    }
   ],
   "source": [
    "computecostfunc(x,y,theta)"
   ]
  },
  {
   "cell_type": "markdown",
   "id": "ba583505",
   "metadata": {},
   "source": [
    "Gradient cost:\n",
    "\n",
    "ɵj = ɵj - ∝*∂/∂ɵj * (j(ɵ0,ɵ1))"
   ]
  },
  {
   "cell_type": "code",
   "execution_count": 16,
   "id": "e28f9bfd",
   "metadata": {},
   "outputs": [],
   "source": [
    "# defining Gradient descent.\n",
    "\n",
    "def gradientdescent(x,y,theta,alpha,iters):\n",
    "    for i in range(iters):\n",
    "        cost  = computecostfunc(x,y,theta)\n",
    "        theta = theta - (alpha/len(x)) * np.sum((x @ theta.T - y), axis=0)\n",
    "        \n",
    "        if i%50 == 0:\n",
    "            print(cost)\n",
    "            print(theta)\n",
    "            print((alpha/len(x)) * np.sum((x @ theta.T - y), axis=0))\n",
    "    return (theta, cost)"
   ]
  },
  {
   "cell_type": "code",
   "execution_count": 17,
   "id": "f6198bf5",
   "metadata": {},
   "outputs": [
    {
     "name": "stdout",
     "output_type": "stream",
     "text": [
      "315.0\n",
      "[[2.9975 2.9975 2.9975 2.9975]]\n",
      "0.0024975\n",
      "285.247545973034\n",
      "[[2.87563606 2.87563606 2.87563606 2.87563606]]\n",
      "0.002375636056422086\n",
      "258.32775921207366\n",
      "[[2.75971839 2.75971839 2.75971839 2.75971839]]\n",
      "0.0022597183874164886\n",
      "233.9709475487811\n",
      "[[2.64945685 2.64945685 2.64945685 2.64945685]]\n",
      "0.0021494568482508833\n",
      "211.93309562710638\n",
      "[[2.54457545 2.54457545 2.54457545 2.54457545]]\n",
      "0.002044575451622893\n",
      "191.99342026912015\n",
      "[[2.44481168 2.44481168 2.44481168 2.44481168]]\n",
      "0.0019448116768571823\n",
      "173.95215858921776\n",
      "[[2.34991581 2.34991581 2.34991581 2.34991581]]\n",
      "0.0018499158128098586\n",
      "157.6285666972186\n",
      "[[2.25965033 2.25965033 2.25965033 2.25965033]]\n",
      "0.001759650332835424\n",
      "142.8591089406485\n",
      "[[2.1737893 2.1737893 2.1737893 2.1737893]]\n",
      "0.0016737893002518342\n",
      "129.49581954537643\n",
      "[[2.0921178 2.0921178 2.0921178 2.0921178]]\n",
      "0.0015921178028155156\n",
      "117.40482024092637\n",
      "[[2.01443141 2.01443141 2.01443141 2.01443141]]\n",
      "0.0015144314147908105\n",
      "106.46497901950252\n",
      "[[1.94053569 1.94053569 1.94053569 1.94053569]]\n",
      "0.0014405356852674111\n",
      "96.56669659168736\n",
      "[[1.87024565 1.87024565 1.87024565 1.87024565]]\n",
      "0.0013702456514450292\n",
      "[[1.80469007 1.80469007 1.80469007 1.80469007]] 87.78128567114332\n"
     ]
    }
   ],
   "source": [
    "# Running the algorithm\n",
    "\n",
    "g, cost = gradientdescent(x,y,theta,alpha,iters)\n",
    "print(g, cost)"
   ]
  },
  {
   "cell_type": "code",
   "execution_count": 20,
   "id": "58358f2c",
   "metadata": {},
   "outputs": [
    {
     "name": "stderr",
     "output_type": "stream",
     "text": [
      "No artists with labels found to put in legend.  Note that artists whose label start with an underscore are ignored when legend() is called with no argument.\n"
     ]
    },
    {
     "data": {
      "text/plain": [
       "<matplotlib.legend.Legend at 0x1e0c37ffaf0>"
      ]
     },
     "execution_count": 20,
     "metadata": {},
     "output_type": "execute_result"
    },
    {
     "data": {
      "image/png": "[encoded data removed]",
      "text/plain": [
       "<Figure size 640x480 with 1 Axes>"
      ]
     },
     "metadata": {},
     "output_type": "display_data"
    }
   ],
   "source": [
    "# Plotting the regression line.\n",
    "\n",
    "plt.scatter(x,y)\n",
    "axes   = plt.gca()\n",
    "x_vals = np.array(axes.get_xlim())\n",
    "y_vals = g[0][0] * x_vals           #...the line equation\n",
    "plt.plot(x_vals,y_vals, '--')\n",
    "plt.legend()"
   ]
  },
  {
   "cell_type": "code",
   "execution_count": 21,
   "id": "ef77538d",
   "metadata": {},
   "outputs": [],
   "source": [
    "# Linear regression using sk learn."
   ]
  },
  {
   "cell_type": "code",
   "execution_count": 23,
   "id": "6942680f",
   "metadata": {},
   "outputs": [
    {
     "name": "stdout",
     "output_type": "stream",
     "text": [
      "    x   y\n",
      "0   1   2\n",
      "1   2   4\n",
      "2   3   6\n",
      "3   4   8\n",
      "4   5  10\n",
      "5   6  12\n",
      "6   7  14\n",
      "7   8  16\n",
      "8   9  18\n",
      "9  10  20\n",
      "\n",
      "    x\n",
      "0   1\n",
      "1   2\n",
      "2   3\n",
      "3   4\n",
      "4   5\n",
      "5   6\n",
      "6   7\n",
      "7   8\n",
      "8   9\n",
      "9  10\n",
      "\n",
      "0     2\n",
      "1     4\n",
      "2     6\n",
      "3     8\n",
      "4    10\n",
      "5    12\n",
      "6    14\n",
      "7    16\n",
      "8    18\n",
      "9    20\n",
      "Name: y, dtype: int64\n"
     ]
    }
   ],
   "source": [
    "# Creating data\n",
    "\n",
    "data = pd.DataFrame({ 'x':[1,2,3,4,5,6,7,8,9,10], 'y':[2,4,6,8,10,12,14,16,18,20]})\n",
    "print(data)\n",
    "\n",
    "y = data.pop('y')\n",
    "x = data\n",
    "\n",
    "print('')\n",
    "print(x)\n",
    "print('')\n",
    "print(y)"
   ]
  },
  {
   "cell_type": "code",
   "execution_count": 24,
   "id": "6308338a",
   "metadata": {},
   "outputs": [],
   "source": [
    "# Initializing the model.\n",
    "\n",
    "my_model = LinearRegression()"
   ]
  },
  {
   "cell_type": "code",
   "execution_count": 25,
   "id": "ad4e4673",
   "metadata": {},
   "outputs": [
    {
     "data": {
      "text/plain": [
       "LinearRegression()"
      ]
     },
     "execution_count": 25,
     "metadata": {},
     "output_type": "execute_result"
    }
   ],
   "source": [
    "# fitting the model.\n",
    "\n",
    "my_model.fit(x,y)"
   ]
  },
  {
   "cell_type": "code",
   "execution_count": 26,
   "id": "4d0c3400",
   "metadata": {},
   "outputs": [
    {
     "data": {
      "text/plain": [
       "array([2.])"
      ]
     },
     "execution_count": 26,
     "metadata": {},
     "output_type": "execute_result"
    }
   ],
   "source": [
    "#finding the coefficient.\n",
    "\n",
    "my_model.coef_"
   ]
  },
  {
   "cell_type": "code",
   "execution_count": 31,
   "id": "7ac7c8b7",
   "metadata": {},
   "outputs": [
    {
     "name": "stderr",
     "output_type": "stream",
     "text": [
      "C:\\Users\\Danish\\anaconda3\\lib\\site-packages\\sklearn\\base.py:450: UserWarning: X does not have valid feature names, but LinearRegression was fitted with feature names\n",
      "  warnings.warn(\n"
     ]
    },
    {
     "data": {
      "text/plain": [
       "array([28.])"
      ]
     },
     "execution_count": 31,
     "metadata": {},
     "output_type": "execute_result"
    }
   ],
   "source": [
    "# testing the model\n",
    "\n",
    "my_model.predict(np.array([[14]]))"
   ]
  }
 ],
 "metadata": {
  "kernelspec": {
   "display_name": "Python 3 (ipykernel)",
   "language": "python",
   "name": "python3"
  },
  "language_info": {
   "codemirror_mode": {
    "name": "ipython",
    "version": 3
   },
   "file_extension": ".py",
   "mimetype": "text/x-python",
   "name": "python",
   "nbconvert_exporter": "python",
   "pygments_lexer": "ipython3",
   "version": "3.9.13"
  }
 },
 "nbformat": 4,
 "nbformat_minor": 5
}
